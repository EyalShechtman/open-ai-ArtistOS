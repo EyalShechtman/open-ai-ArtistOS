{
 "cells": [
  {
   "cell_type": "code",
   "execution_count": 2,
   "id": "df5489d1",
   "metadata": {},
   "outputs": [
    {
     "data": {
      "text/html": [
       "<div>\n",
       "<style scoped>\n",
       "    .dataframe tbody tr th:only-of-type {\n",
       "        vertical-align: middle;\n",
       "    }\n",
       "\n",
       "    .dataframe tbody tr th {\n",
       "        vertical-align: top;\n",
       "    }\n",
       "\n",
       "    .dataframe thead th {\n",
       "        text-align: right;\n",
       "    }\n",
       "</style>\n",
       "<table border=\"1\" class=\"dataframe\">\n",
       "  <thead>\n",
       "    <tr style=\"text-align: right;\">\n",
       "      <th></th>\n",
       "      <th>Unnamed: 0</th>\n",
       "      <th>duration_sec</th>\n",
       "      <th>tempo_bpm</th>\n",
       "      <th>tempo_first5_bpm</th>\n",
       "      <th>tempo_last5_bpm</th>\n",
       "      <th>n_beats</th>\n",
       "      <th>centroid_mean</th>\n",
       "      <th>centroid_std</th>\n",
       "      <th>rolloff_mean</th>\n",
       "      <th>zcr_mean</th>\n",
       "      <th>...</th>\n",
       "      <th>first_slice_centroid_mean</th>\n",
       "      <th>last_slice_chroma_mean</th>\n",
       "      <th>last_slice_chroma_std</th>\n",
       "      <th>last_slice_chroma_min</th>\n",
       "      <th>last_slice_chroma_max</th>\n",
       "      <th>last_slice_mfcc_mean</th>\n",
       "      <th>last_slice_mfcc_std</th>\n",
       "      <th>last_slice_mfcc_min</th>\n",
       "      <th>last_slice_mfcc_max</th>\n",
       "      <th>last_slice_centroid_mean</th>\n",
       "    </tr>\n",
       "  </thead>\n",
       "  <tbody>\n",
       "    <tr>\n",
       "      <th>0</th>\n",
       "      <td>0</td>\n",
       "      <td>39.674921</td>\n",
       "      <td>135.999178</td>\n",
       "      <td>112.347147</td>\n",
       "      <td>135.999178</td>\n",
       "      <td>89</td>\n",
       "      <td>1741.859965</td>\n",
       "      <td>1089.511399</td>\n",
       "      <td>3462.700341</td>\n",
       "      <td>0.069464</td>\n",
       "      <td>...</td>\n",
       "      <td>1777.754583</td>\n",
       "      <td>0.658836</td>\n",
       "      <td>0.083597</td>\n",
       "      <td>0.550281</td>\n",
       "      <td>0.792898</td>\n",
       "      <td>26.083112</td>\n",
       "      <td>70.610618</td>\n",
       "      <td>-131.113495</td>\n",
       "      <td>189.54007</td>\n",
       "      <td>2461.514593</td>\n",
       "    </tr>\n",
       "  </tbody>\n",
       "</table>\n",
       "<p>1 rows × 36 columns</p>\n",
       "</div>"
      ],
      "text/plain": [
       "   Unnamed: 0  duration_sec   tempo_bpm  tempo_first5_bpm  tempo_last5_bpm  \\\n",
       "0           0     39.674921  135.999178        112.347147       135.999178   \n",
       "\n",
       "   n_beats  centroid_mean  centroid_std  rolloff_mean  zcr_mean  ...  \\\n",
       "0       89    1741.859965   1089.511399   3462.700341  0.069464  ...   \n",
       "\n",
       "   first_slice_centroid_mean  last_slice_chroma_mean  last_slice_chroma_std  \\\n",
       "0                1777.754583                0.658836               0.083597   \n",
       "\n",
       "   last_slice_chroma_min  last_slice_chroma_max  last_slice_mfcc_mean  \\\n",
       "0               0.550281               0.792898             26.083112   \n",
       "\n",
       "   last_slice_mfcc_std  last_slice_mfcc_min  last_slice_mfcc_max  \\\n",
       "0            70.610618          -131.113495            189.54007   \n",
       "\n",
       "   last_slice_centroid_mean  \n",
       "0               2461.514593  \n",
       "\n",
       "[1 rows x 36 columns]"
      ]
     },
     "execution_count": 2,
     "metadata": {},
     "output_type": "execute_result"
    }
   ],
   "source": [
    "import pandas as pd\n",
    "\n",
    "df = pd.read_csv('features_test.csv')\n",
    "df.head()"
   ]
  },
  {
   "cell_type": "code",
   "execution_count": null,
   "id": "6e854acc",
   "metadata": {},
   "outputs": [],
   "source": []
  }
 ],
 "metadata": {
  "kernelspec": {
   "display_name": "venv",
   "language": "python",
   "name": "python3"
  },
  "language_info": {
   "codemirror_mode": {
    "name": "ipython",
    "version": 3
   },
   "file_extension": ".py",
   "mimetype": "text/x-python",
   "name": "python",
   "nbconvert_exporter": "python",
   "pygments_lexer": "ipython3",
   "version": "3.13.3"
  }
 },
 "nbformat": 4,
 "nbformat_minor": 5
}
